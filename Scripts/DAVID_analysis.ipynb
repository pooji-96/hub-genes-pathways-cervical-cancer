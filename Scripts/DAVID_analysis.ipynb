{
 "cells": [
  {
   "cell_type": "code",
   "execution_count": null,
   "id": "2cdc5af0",
   "metadata": {},
   "outputs": [],
   "source": [
    "import pandas as pd\n",
    "import os\n",
    "\n",
    "# Set the working directory to DAVID folder where results are stored\n",
    "path = \"path/to/Output/DAVID\"\n",
    "\n",
    "# List of file names\n",
    "files = [\"KEGG_DAVID.txt\", \"GO-CC_DAVID.txt\", \"GO_MF_DAVID.txt\", \"GO_BP_DAVID.txt\"]\n",
    "\n",
    "# Loop through each file\n",
    "for file in files:\n",
    "    full_path = os.path.join(path, file)\n",
    "    \n",
    "    # Read the file\n",
    "    df = pd.read_csv(full_path, sep=\"\\t\")  # assuming tab-separated, change if needed\n",
    "    \n",
    "    # Filter based on Benjamini < 0.05\n",
    "    filtered_df = df[df['Benjamini'] < 0.05]\n",
    "    \n",
    "    # Select only Term, Count, P-Value columns\n",
    "    selected_df = filtered_df[['Term', 'Count', 'PValue']]\n",
    "    \n",
    "    # Save or print results\n",
    "    output_file = os.path.join(path, \"filtered_\" + file)\n",
    "    selected_df.to_csv(output_file, sep=\"\\t\", index=False)\n",
    "\n",
    "    print(f\"Filtered file saved as: {output_file}\")"
   ]
  },
  {
   "cell_type": "code",
   "execution_count": null,
   "id": "5741f4e6",
   "metadata": {},
   "outputs": [],
   "source": [
    "print(df.columns.tolist())"
   ]
  },
  {
   "cell_type": "code",
   "execution_count": null,
   "id": "11196963",
   "metadata": {},
   "outputs": [],
   "source": [
    "import pandas as pd\n",
    "import os\n",
    "\n",
    "# Set the working directory to DAVID folder where results are stored\n",
    "path = \"path/to/Output/DAVID\"\n",
    "\n",
    "# List of input files\n",
    "files = [\"KEGG_DAVID.txt\", \"GO-CC_DAVID.txt\", \"GO_MF_DAVID.txt\", \"GO_BP_DAVID.txt\"]\n",
    "\n",
    "for file in files:\n",
    "    full_path = os.path.join(path, file)\n",
    "    \n",
    "    # Read the input file\n",
    "    df = pd.read_csv(full_path, sep=\"\\t\")\n",
    "    df.columns = df.columns.str.strip()  # Remove extra spaces if any\n",
    "    \n",
    "    # Filter rows where Benjamini < 0.05\n",
    "    filtered_df = df[df['Benjamini'] < 0.05]\n",
    "    \n",
    "    # Select required columns\n",
    "    selected_df = filtered_df[['Term', 'Count', 'PValue']]\n",
    "    \n",
    "    # Build output file name (.csv instead of .txt)\n",
    "    output_file = os.path.join(path, \"filtered_\" + file.replace(\".txt\", \".csv\"))\n",
    "    \n",
    "    # Save as CSV\n",
    "    selected_df.to_csv(output_file, index=False)\n",
    "    \n",
    "    print(f\"Filtered CSV saved: {output_file}\")"
   ]
  },
  {
   "cell_type": "code",
   "execution_count": null,
   "id": "f039452c",
   "metadata": {},
   "outputs": [],
   "source": []
  }
 ],
 "metadata": {
  "kernelspec": {
   "display_name": "Python 3 (ipykernel)",
   "language": "python",
   "name": "python3"
  },
  "language_info": {
   "codemirror_mode": {
    "name": "ipython",
    "version": 3
   },
   "file_extension": ".py",
   "mimetype": "text/x-python",
   "name": "python",
   "nbconvert_exporter": "python",
   "pygments_lexer": "ipython3",
   "version": "3.11.13"
  }
 },
 "nbformat": 4,
 "nbformat_minor": 5
}
